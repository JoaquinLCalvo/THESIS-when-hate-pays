{
 "cells": [
  {
   "cell_type": "code",
   "execution_count": 1,
   "id": "f2ac1762",
   "metadata": {},
   "outputs": [
    {
     "data": {
      "text/html": [
       "        <script type=\"text/javascript\">\n",
       "        window.PlotlyConfig = {MathJaxConfig: 'local'};\n",
       "        if (window.MathJax) {MathJax.Hub.Config({SVG: {font: \"STIX-Web\"}});}\n",
       "        if (typeof require !== 'undefined') {\n",
       "        require.undef(\"plotly\");\n",
       "        requirejs.config({\n",
       "            paths: {\n",
       "                'plotly': ['https://cdn.plot.ly/plotly-2.9.0.min']\n",
       "            }\n",
       "        });\n",
       "        require(['plotly'], function(Plotly) {\n",
       "            window._Plotly = Plotly;\n",
       "        });\n",
       "        }\n",
       "        </script>\n",
       "        "
      ]
     },
     "metadata": {},
     "output_type": "display_data"
    }
   ],
   "source": [
    "import sqlite3\n",
    "import pandas as pd\n",
    "import json\n",
    "import numpy as np\n",
    "import re\n",
    "from tqdm.notebook import tqdm\n",
    "tqdm.pandas()\n",
    "\n",
    "import scipy\n",
    "from scipy import stats\n",
    "import statsmodels\n",
    "import statsmodels.api as sm\n",
    "\n",
    "from plotly.offline import init_notebook_mode, iplot\n",
    "import plotly.figure_factory as ff\n",
    "import plotly.graph_objs as go\n",
    "import plotly.express as px\n",
    "from plotly.subplots import make_subplots\n",
    "import chart_studio\n",
    "import chart_studio.plotly as py\n",
    "from plotly import tools\n",
    "username = 'JoaquinLCalvo' # your username\n",
    "api_key = '98U3Yr92badRD9RKYXnS' # your api api_key\n",
    "chart_studio.tools.set_credentials_file(username=username, api_key=api_key)\n",
    "init_notebook_mode(connected=True)\n",
    "import plotly.io as pio\n",
    "pio.renderers.default='notebook'\n",
    "\n",
    "import warnings\n",
    "warnings.filterwarnings(\"ignore\")\n",
    "\n",
    "from perspective import PerspectiveAPI\n",
    "from pysentimiento.preprocessing import preprocess_tweet"
   ]
  },
  {
   "cell_type": "code",
   "execution_count": 2,
   "id": "ac6eda61",
   "metadata": {},
   "outputs": [],
   "source": [
    "# Create your connection.\n",
    "cnx = sqlite3.connect(r'C:\\Users\\jlopezca\\Documents\\TESI\\TESIS-Cuando-el-odio-garpa\\comments.db')\n",
    "analyzed = pd.read_sql_query(\"SELECT * FROM comment\", sqlite3.connect(r'C:\\Users\\jlopezca\\Documents\\TESI\\TESIS-Cuando-el-odio-garpa\\comments.db'))"
   ]
  },
  {
   "cell_type": "code",
   "execution_count": 4,
   "id": "b1d0c80a",
   "metadata": {},
   "outputs": [
    {
     "data": {
      "text/html": [
       "<div>\n",
       "<style scoped>\n",
       "    .dataframe tbody tr th:only-of-type {\n",
       "        vertical-align: middle;\n",
       "    }\n",
       "\n",
       "    .dataframe tbody tr th {\n",
       "        vertical-align: top;\n",
       "    }\n",
       "\n",
       "    .dataframe thead th {\n",
       "        text-align: right;\n",
       "    }\n",
       "</style>\n",
       "<table border=\"1\" class=\"dataframe\">\n",
       "  <thead>\n",
       "    <tr style=\"text-align: right;\">\n",
       "      <th></th>\n",
       "      <th>text</th>\n",
       "      <th>toxicity</th>\n",
       "      <th>json_response</th>\n",
       "    </tr>\n",
       "  </thead>\n",
       "  <tbody>\n",
       "    <tr>\n",
       "      <th>0</th>\n",
       "      <td>😂pero si youtube no lleva ni 40 años jajaja</td>\n",
       "      <td>0.146869</td>\n",
       "      <td>{\"attributeScores\": {\"THREAT_EXPERIMENTAL\": {\"...</td>\n",
       "    </tr>\n",
       "    <tr>\n",
       "      <th>1</th>\n",
       "      <td>&lt;a href=\"https://www.youtube.com/watch?v=u6krw...</td>\n",
       "      <td>0.088079</td>\n",
       "      <td>{\"attributeScores\": {\"THREAT_EXPERIMENTAL\": {\"...</td>\n",
       "    </tr>\n",
       "    <tr>\n",
       "      <th>2</th>\n",
       "      <td>Cj: te extrañe. Daniel Loquendo xd: y yo a ti cj</td>\n",
       "      <td>0.095093</td>\n",
       "      <td>{\"attributeScores\": {\"TOXICITY\": {\"spanScores\"...</td>\n",
       "    </tr>\n",
       "  </tbody>\n",
       "</table>\n",
       "</div>"
      ],
      "text/plain": [
       "                                                text  toxicity  \\\n",
       "0        😂pero si youtube no lleva ni 40 años jajaja  0.146869   \n",
       "1  <a href=\"https://www.youtube.com/watch?v=u6krw...  0.088079   \n",
       "2   Cj: te extrañe. Daniel Loquendo xd: y yo a ti cj  0.095093   \n",
       "\n",
       "                                       json_response  \n",
       "0  {\"attributeScores\": {\"THREAT_EXPERIMENTAL\": {\"...  \n",
       "1  {\"attributeScores\": {\"THREAT_EXPERIMENTAL\": {\"...  \n",
       "2  {\"attributeScores\": {\"TOXICITY\": {\"spanScores\"...  "
      ]
     },
     "execution_count": 4,
     "metadata": {},
     "output_type": "execute_result"
    }
   ],
   "source": [
    "analyzed.head(3)"
   ]
  },
  {
   "cell_type": "code",
   "execution_count": 6,
   "id": "e85046cf",
   "metadata": {},
   "outputs": [
    {
     "data": {
      "text/plain": [
       "(1280492, 3)"
      ]
     },
     "execution_count": 6,
     "metadata": {},
     "output_type": "execute_result"
    }
   ],
   "source": [
    "analyzed.drop_duplicates(subset ='text', keep = False, inplace = True) \n",
    "analyzed.shape"
   ]
  },
  {
   "cell_type": "code",
   "execution_count": 14,
   "id": "a0e041ce",
   "metadata": {},
   "outputs": [
    {
     "data": {
      "text/plain": [
       "text              object\n",
       "toxicity         float64\n",
       "json_response     object\n",
       "dtype: object"
      ]
     },
     "execution_count": 14,
     "metadata": {},
     "output_type": "execute_result"
    }
   ],
   "source": [
    "analyzed.dtypes"
   ]
  },
  {
   "cell_type": "code",
   "execution_count": 19,
   "id": "0001a387",
   "metadata": {},
   "outputs": [],
   "source": [
    "pd.set_option('max_colwidth', 8000)"
   ]
  },
  {
   "cell_type": "code",
   "execution_count": 20,
   "id": "60145be9",
   "metadata": {},
   "outputs": [
    {
     "data": {
      "text/plain": [
       "0    {\"attributeScores\": {\"THREAT_EXPERIMENTAL\": {\"spanScores\": [{\"begin\": 0, \"end\": 62, \"score\": {\"value\": 0.06943103, \"type\": \"PROBABILITY\"}}], \"summaryScore\": {\"value\": 0.06943103, \"type\": \"PROBABILITY\"}}, \"IDENTITY_ATTACK_EXPERIMENTAL\": {\"spanScores\": [{\"begin\": 0, \"end\": 62, \"score\": {\"value\": 0.074238, \"type\": \"PROBABILITY\"}}], \"summaryScore\": {\"value\": 0.074238, \"type\": \"PROBABILITY\"}}, \"INSULT_EXPERIMENTAL\": {\"spanScores\": [{\"begin\": 0, \"end\": 62, \"score\": {\"value\": 0.1857565, \"type\": \"PROBABILITY\"}}], \"summaryScore\": {\"value\": 0.1857565, \"type\": \"PROBABILITY\"}}, \"TOXICITY\": {\"spanScores\": [{\"begin\": 0, \"end\": 62, \"score\": {\"value\": 0.1468691, \"type\": \"PROBABILITY\"}}], \"summaryScore\": {\"value\": 0.1468691, \"type\": \"PROBABILITY\"}}, \"PROFANITY_EXPERIMENTAL\": {\"spanScores\": [{\"begin\": 0, \"end\": 62, \"score\": {\"value\": 0.07318536, \"type\": \"PROBABILITY\"}}], \"summaryScore\": {\"value\": 0.07318536, \"type\": \"PROBABILITY\"}}, \"SEVERE_TOXICITY\": {\"spanScores\": [{\"begin\": 0, \"end\": 62, \"score\": {\"value\": 0.03895548, \"type\": \"PROBABILITY\"}}], \"summaryScore\": {\"value\": 0.03895548, \"type\": \"PROBABILITY\"}}}, \"languages\": [\"es\"], \"detectedLanguages\": [\"es\"]}\n",
       "Name: json_response, dtype: object"
      ]
     },
     "execution_count": 20,
     "metadata": {},
     "output_type": "execute_result"
    }
   ],
   "source": [
    "analyzed.json_response.iloc[:1]"
   ]
  },
  {
   "cell_type": "code",
   "execution_count": 22,
   "id": "1089087e",
   "metadata": {},
   "outputs": [
    {
     "ename": "MemoryError",
     "evalue": "",
     "output_type": "error",
     "traceback": [
      "\u001b[1;31m---------------------------------------------------------------------------\u001b[0m",
      "\u001b[1;31mMemoryError\u001b[0m                               Traceback (most recent call last)",
      "\u001b[1;32m~\\AppData\\Local\\Temp/ipykernel_52148/3506307152.py\u001b[0m in \u001b[0;36m<module>\u001b[1;34m\u001b[0m\n\u001b[1;32m----> 1\u001b[1;33m df = pd.json_normalize(analyzed.to_dict(), 'json_response', ['THREAT_EXPERIMENTAL', 'IDENTITY_ATTACK_EXPERIMENTAL',\n\u001b[0m\u001b[0;32m      2\u001b[0m                                                    \u001b[1;34m'INSULT_EXPERIMENTAL'\u001b[0m\u001b[1;33m,\u001b[0m \u001b[1;34m'PROFANITY_EXPERIMENTAL'\u001b[0m\u001b[1;33m,\u001b[0m\u001b[1;33m\u001b[0m\u001b[1;33m\u001b[0m\u001b[0m\n\u001b[0;32m      3\u001b[0m                                                    'SEVERE_TOXICITY'], \n\u001b[0;32m      4\u001b[0m                     record_prefix='json_response_')\n\u001b[0;32m      5\u001b[0m \u001b[0mdf\u001b[0m\u001b[1;33m.\u001b[0m\u001b[0mhead\u001b[0m\u001b[1;33m(\u001b[0m\u001b[1;33m)\u001b[0m\u001b[1;33m\u001b[0m\u001b[1;33m\u001b[0m\u001b[0m\n",
      "\u001b[1;32m~\\Anaconda3\\envs\\tesis\\lib\\site-packages\\pandas\\io\\json\\_normalize.py\u001b[0m in \u001b[0;36m_json_normalize\u001b[1;34m(data, record_path, meta, meta_prefix, record_prefix, errors, sep, max_level)\u001b[0m\n\u001b[0;32m    502\u001b[0m                 \u001b[0mrecords\u001b[0m\u001b[1;33m.\u001b[0m\u001b[0mextend\u001b[0m\u001b[1;33m(\u001b[0m\u001b[0mrecs\u001b[0m\u001b[1;33m)\u001b[0m\u001b[1;33m\u001b[0m\u001b[1;33m\u001b[0m\u001b[0m\n\u001b[0;32m    503\u001b[0m \u001b[1;33m\u001b[0m\u001b[0m\n\u001b[1;32m--> 504\u001b[1;33m     \u001b[0m_recursive_extract\u001b[0m\u001b[1;33m(\u001b[0m\u001b[0mdata\u001b[0m\u001b[1;33m,\u001b[0m \u001b[0mrecord_path\u001b[0m\u001b[1;33m,\u001b[0m \u001b[1;33m{\u001b[0m\u001b[1;33m}\u001b[0m\u001b[1;33m,\u001b[0m \u001b[0mlevel\u001b[0m\u001b[1;33m=\u001b[0m\u001b[1;36m0\u001b[0m\u001b[1;33m)\u001b[0m\u001b[1;33m\u001b[0m\u001b[1;33m\u001b[0m\u001b[0m\n\u001b[0m\u001b[0;32m    505\u001b[0m \u001b[1;33m\u001b[0m\u001b[0m\n\u001b[0;32m    506\u001b[0m     \u001b[0mresult\u001b[0m \u001b[1;33m=\u001b[0m \u001b[0mDataFrame\u001b[0m\u001b[1;33m(\u001b[0m\u001b[0mrecords\u001b[0m\u001b[1;33m)\u001b[0m\u001b[1;33m\u001b[0m\u001b[1;33m\u001b[0m\u001b[0m\n",
      "\u001b[1;32m~\\Anaconda3\\envs\\tesis\\lib\\site-packages\\pandas\\io\\json\\_normalize.py\u001b[0m in \u001b[0;36m_recursive_extract\u001b[1;34m(data, path, seen_meta, level)\u001b[0m\n\u001b[0;32m    475\u001b[0m         \u001b[1;32melse\u001b[0m\u001b[1;33m:\u001b[0m\u001b[1;33m\u001b[0m\u001b[1;33m\u001b[0m\u001b[0m\n\u001b[0;32m    476\u001b[0m             \u001b[1;32mfor\u001b[0m \u001b[0mobj\u001b[0m \u001b[1;32min\u001b[0m \u001b[0mdata\u001b[0m\u001b[1;33m:\u001b[0m\u001b[1;33m\u001b[0m\u001b[1;33m\u001b[0m\u001b[0m\n\u001b[1;32m--> 477\u001b[1;33m                 \u001b[0mrecs\u001b[0m \u001b[1;33m=\u001b[0m \u001b[0m_pull_records\u001b[0m\u001b[1;33m(\u001b[0m\u001b[0mobj\u001b[0m\u001b[1;33m,\u001b[0m \u001b[0mpath\u001b[0m\u001b[1;33m[\u001b[0m\u001b[1;36m0\u001b[0m\u001b[1;33m]\u001b[0m\u001b[1;33m)\u001b[0m\u001b[1;33m\u001b[0m\u001b[1;33m\u001b[0m\u001b[0m\n\u001b[0m\u001b[0;32m    478\u001b[0m                 recs = [\n\u001b[0;32m    479\u001b[0m                     \u001b[0mnested_to_record\u001b[0m\u001b[1;33m(\u001b[0m\u001b[0mr\u001b[0m\u001b[1;33m,\u001b[0m \u001b[0msep\u001b[0m\u001b[1;33m=\u001b[0m\u001b[0msep\u001b[0m\u001b[1;33m,\u001b[0m \u001b[0mmax_level\u001b[0m\u001b[1;33m=\u001b[0m\u001b[0mmax_level\u001b[0m\u001b[1;33m)\u001b[0m\u001b[1;33m\u001b[0m\u001b[1;33m\u001b[0m\u001b[0m\n",
      "\u001b[1;32m~\\Anaconda3\\envs\\tesis\\lib\\site-packages\\pandas\\io\\json\\_normalize.py\u001b[0m in \u001b[0;36m_pull_records\u001b[1;34m(js, spec)\u001b[0m\n\u001b[0;32m    406\u001b[0m             \u001b[1;32melse\u001b[0m\u001b[1;33m:\u001b[0m\u001b[1;33m\u001b[0m\u001b[1;33m\u001b[0m\u001b[0m\n\u001b[0;32m    407\u001b[0m                 raise TypeError(\n\u001b[1;32m--> 408\u001b[1;33m                     \u001b[1;34mf\"{js} has non list value {result} for path {spec}. \"\u001b[0m\u001b[1;33m\u001b[0m\u001b[1;33m\u001b[0m\u001b[0m\n\u001b[0m\u001b[0;32m    409\u001b[0m                     \u001b[1;34m\"Must be list or null.\"\u001b[0m\u001b[1;33m\u001b[0m\u001b[1;33m\u001b[0m\u001b[0m\n\u001b[0;32m    410\u001b[0m                 )\n",
      "\u001b[1;31mMemoryError\u001b[0m: "
     ]
    }
   ],
   "source": [
    "df = pd.json_normalize(analyzed.to_dict(), 'json_response', ['THREAT_EXPERIMENTAL', 'IDENTITY_ATTACK_EXPERIMENTAL',\n",
    "                                                   'INSULT_EXPERIMENTAL', 'PROFANITY_EXPERIMENTAL', \n",
    "                                                   'SEVERE_TOXICITY'], \n",
    "                    record_prefix='json_response_')\n",
    "df.head()\n"
   ]
  },
  {
   "cell_type": "code",
   "execution_count": null,
   "id": "8407fc09",
   "metadata": {},
   "outputs": [],
   "source": []
  },
  {
   "cell_type": "code",
   "execution_count": null,
   "id": "0bd9c7eb",
   "metadata": {},
   "outputs": [],
   "source": []
  },
  {
   "cell_type": "code",
   "execution_count": null,
   "id": "3dd5073f",
   "metadata": {},
   "outputs": [],
   "source": []
  },
  {
   "cell_type": "code",
   "execution_count": null,
   "id": "03cbb090",
   "metadata": {},
   "outputs": [],
   "source": []
  },
  {
   "cell_type": "code",
   "execution_count": null,
   "id": "a3325078",
   "metadata": {},
   "outputs": [],
   "source": []
  },
  {
   "cell_type": "code",
   "execution_count": null,
   "id": "c100cbc7",
   "metadata": {},
   "outputs": [],
   "source": []
  },
  {
   "cell_type": "code",
   "execution_count": null,
   "id": "1aff384d",
   "metadata": {},
   "outputs": [],
   "source": []
  }
 ],
 "metadata": {
  "kernelspec": {
   "display_name": "Python 3 (ipykernel)",
   "language": "python",
   "name": "python3"
  },
  "language_info": {
   "codemirror_mode": {
    "name": "ipython",
    "version": 3
   },
   "file_extension": ".py",
   "mimetype": "text/x-python",
   "name": "python",
   "nbconvert_exporter": "python",
   "pygments_lexer": "ipython3",
   "version": "3.8.12"
  }
 },
 "nbformat": 4,
 "nbformat_minor": 5
}
